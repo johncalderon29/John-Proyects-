{
 "cells": [
  {
   "cell_type": "code",
   "execution_count": 2,
   "id": "7f0fc1d5",
   "metadata": {},
   "outputs": [],
   "source": [
    "import pandas as pd"
   ]
  },
  {
   "cell_type": "code",
   "execution_count": 12,
   "id": "a5a65075",
   "metadata": {},
   "outputs": [
    {
     "name": "stdout",
     "output_type": "stream",
     "text": [
      "['id', 'title', 'url', 'num_points', 'num_comments', 'author', 'created_at']\n",
      "['12579008', 'You have two days to comment if you want stem cells to be classified as your own', 'http://www.regulations.gov/document?D=FDA-2015-D-3719-0018', '1', '0', 'altstar', '9/26/2016 3:26']\n",
      "['12579005', 'SQLAR  the SQLite Archiver', 'https://www.sqlite.org/sqlar/doc/trunk/README.md', '1', '0', 'blacksqr', '9/26/2016 3:24']\n",
      "['12578997', 'What if we just printed a flatscreen television on the side of our boxes?', 'https://medium.com/vanmoof/our-secrets-out-f21c1f03fdc8#.ietxmez43', '1', '0', 'pavel_lishin', '9/26/2016 3:19']\n",
      "['12578989', 'algorithmic music', 'http://cacm.acm.org/magazines/2011/7/109891-algorithmic-composition/fulltext', '1', '0', 'poindontcare', '9/26/2016 3:16']\n"
     ]
    }
   ],
   "source": [
    "import csv\n",
    "\n",
    "file_path = r'C:\\Users\\J\\Documents\\Python Scripts\\HN_posts_year.csv'\n",
    "\n",
    "# Read the CSV file using csv.reader\n",
    "with open(file_path, 'r', encoding='utf-8') as csv_file:\n",
    "    csv_reader = csv.reader(csv_file)\n",
    "    hn = list(csv_reader)\n",
    "\n",
    "# Display the first five rows of hn\n",
    "for row in hn[:5]:\n",
    "    print(row)"
   ]
  },
  {
   "cell_type": "code",
   "execution_count": 13,
   "id": "0e0d48a2",
   "metadata": {},
   "outputs": [
    {
     "name": "stdout",
     "output_type": "stream",
     "text": [
      "Headers: ['id', 'title', 'url', 'num_points', 'num_comments', 'author', 'created_at']\n",
      "['12579008', 'You have two days to comment if you want stem cells to be classified as your own', 'http://www.regulations.gov/document?D=FDA-2015-D-3719-0018', '1', '0', 'altstar', '9/26/2016 3:26']\n",
      "['12579005', 'SQLAR  the SQLite Archiver', 'https://www.sqlite.org/sqlar/doc/trunk/README.md', '1', '0', 'blacksqr', '9/26/2016 3:24']\n",
      "['12578997', 'What if we just printed a flatscreen television on the side of our boxes?', 'https://medium.com/vanmoof/our-secrets-out-f21c1f03fdc8#.ietxmez43', '1', '0', 'pavel_lishin', '9/26/2016 3:19']\n",
      "['12578989', 'algorithmic music', 'http://cacm.acm.org/magazines/2011/7/109891-algorithmic-composition/fulltext', '1', '0', 'poindontcare', '9/26/2016 3:16']\n",
      "['12578979', 'How the Data Vault Enables the Next-Gen Data Warehouse and Data Lake', 'https://www.talend.com/blog/2016/05/12/talend-and-Â\\x93the-data-vaultÂ\\x94', '1', '0', 'markgainor1', '9/26/2016 3:14']\n"
     ]
    }
   ],
   "source": [
    "# Extract the first row of data as headers\n",
    "headers = hn[0]\n",
    "\n",
    "# Remove the first row from hn\n",
    "hn = hn[1:]\n",
    "\n",
    "# Display the headers\n",
    "print(\"Headers:\", headers)\n",
    "\n",
    "# Display the first five rows of hn\n",
    "for row in hn[:5]:\n",
    "    print(row)"
   ]
  },
  {
   "cell_type": "code",
   "execution_count": 14,
   "id": "af8bc1bf",
   "metadata": {},
   "outputs": [
    {
     "name": "stdout",
     "output_type": "stream",
     "text": [
      "Number of Ask HN Posts: 9139\n",
      "Number of Show HN Posts: 10158\n",
      "Number of Other Posts: 273822\n"
     ]
    }
   ],
   "source": [
    "# Create empty lists for different post types\n",
    "ask_posts = []\n",
    "show_posts = []\n",
    "other_posts = []\n",
    "\n",
    "for row in hn:\n",
    "    title = row[1]  # Assuming title is in the second column (index 1)\n",
    "\n",
    "    # Check post type and append to respective lists\n",
    "    if title.lower().startswith(\"ask hn\"):\n",
    "        ask_posts.append(row)\n",
    "    elif title.lower().startswith(\"show hn\"):\n",
    "        show_posts.append(row)\n",
    "    else:\n",
    "        other_posts.append(row)\n",
    "\n",
    "# Check the number of posts in each category\n",
    "num_ask_posts = len(ask_posts)\n",
    "num_show_posts = len(show_posts)\n",
    "num_other_posts = len(other_posts)\n",
    "\n",
    "print(\"Number of Ask HN Posts:\", num_ask_posts)\n",
    "print(\"Number of Show HN Posts:\", num_show_posts)\n",
    "print(\"Number of Other Posts:\", num_other_posts)\n"
   ]
  },
  {
   "cell_type": "code",
   "execution_count": 15,
   "id": "d68c5cc1",
   "metadata": {},
   "outputs": [
    {
     "name": "stdout",
     "output_type": "stream",
     "text": [
      "Average Number of Comments on Ask Posts: 10.393478498741656\n",
      "Average Number of Comments on Show Posts: 4.886099625910612\n"
     ]
    }
   ],
   "source": [
    "# Calculate the total number of comments and average number of comments for ask posts\n",
    "total_ask_comments = 0\n",
    "\n",
    "for post in ask_posts:\n",
    "    num_comments = int(post[4])  # Assuming num_comments is in the fifth column (index 4)\n",
    "    total_ask_comments += num_comments\n",
    "\n",
    "avg_ask_comments = total_ask_comments / len(ask_posts)\n",
    "\n",
    "print(\"Average Number of Comments on Ask Posts:\", avg_ask_comments)\n",
    "\n",
    "# Calculate the total number of comments and average number of comments for show posts\n",
    "total_show_comments = 0\n",
    "\n",
    "for post in show_posts:\n",
    "    num_comments = int(post[4])  # Assuming num_comments is in the fifth column (index 4)\n",
    "    total_show_comments += num_comments\n",
    "\n",
    "avg_show_comments = total_show_comments / len(show_posts)\n",
    "\n",
    "print(\"Average Number of Comments on Show Posts:\", avg_show_comments)\n"
   ]
  },
  {
   "cell_type": "code",
   "execution_count": 16,
   "id": "c1922974",
   "metadata": {},
   "outputs": [],
   "source": [
    "import datetime as dt\n",
    "\n",
    "# Create an empty list for the result\n",
    "result_list = []\n",
    "\n",
    "for post in ask_posts:\n",
    "    created_at = post[6]  # Assuming created_at is in the seventh column (index 6)\n",
    "    num_comments = int(post[4])  # Assuming num_comments is in the fifth column (index 4)\n",
    "    result_list.append([created_at, num_comments])\n",
    "\n",
    "# Create dictionaries to store counts and comments by hour\n",
    "counts_by_hour = {}\n",
    "comments_by_hour = {}\n",
    "\n",
    "# Loop through the result_list\n",
    "for row in result_list:\n",
    "    created_at = row[0]\n",
    "    num_comments = row[1]\n",
    "    \n",
    "    # Parse the date and extract the hour\n",
    "    hour = dt.datetime.strptime(created_at, \"%m/%d/%Y %H:%M\").strftime(\"%H\")\n",
    "    \n",
    "    # Update counts_by_hour and comments_by_hour\n",
    "    if hour not in counts_by_hour:\n",
    "        counts_by_hour[hour] = 1\n",
    "        comments_by_hour[hour] = num_comments\n",
    "    else:\n",
    "        counts_by_hour[hour] += 1\n",
    "        comments_by_hour[hour] += num_comments\n"
   ]
  },
  {
   "cell_type": "code",
   "execution_count": 17,
   "id": "9950c1eb",
   "metadata": {},
   "outputs": [
    {
     "name": "stdout",
     "output_type": "stream",
     "text": [
      "Hour: 02, Average Comments: 11.14\n",
      "Hour: 01, Average Comments: 7.41\n",
      "Hour: 22, Average Comments: 8.80\n",
      "Hour: 21, Average Comments: 8.69\n",
      "Hour: 19, Average Comments: 7.16\n",
      "Hour: 17, Average Comments: 9.45\n",
      "Hour: 15, Average Comments: 28.68\n",
      "Hour: 14, Average Comments: 9.69\n",
      "Hour: 13, Average Comments: 16.32\n",
      "Hour: 11, Average Comments: 8.96\n",
      "Hour: 10, Average Comments: 10.68\n",
      "Hour: 09, Average Comments: 6.65\n",
      "Hour: 07, Average Comments: 7.01\n",
      "Hour: 03, Average Comments: 7.95\n",
      "Hour: 23, Average Comments: 6.70\n",
      "Hour: 20, Average Comments: 8.75\n",
      "Hour: 16, Average Comments: 7.71\n",
      "Hour: 08, Average Comments: 9.19\n",
      "Hour: 00, Average Comments: 7.56\n",
      "Hour: 18, Average Comments: 7.94\n",
      "Hour: 12, Average Comments: 12.38\n",
      "Hour: 04, Average Comments: 9.71\n",
      "Hour: 06, Average Comments: 6.78\n",
      "Hour: 05, Average Comments: 8.79\n"
     ]
    }
   ],
   "source": [
    "# Calculate the average number of comments per post for each hour\n",
    "avg_by_hour = []\n",
    "\n",
    "for hour in comments_by_hour:\n",
    "    avg_comments = comments_by_hour[hour] / counts_by_hour[hour]\n",
    "    avg_by_hour.append([hour, avg_comments])\n",
    "\n",
    "# Display the results\n",
    "for hour, avg_comments in avg_by_hour:\n",
    "    print(f\"Hour: {hour}, Average Comments: {avg_comments:.2f}\")\n"
   ]
  },
  {
   "cell_type": "code",
   "execution_count": 18,
   "id": "a7e8748d",
   "metadata": {},
   "outputs": [
    {
     "name": "stdout",
     "output_type": "stream",
     "text": [
      "swap_avg_by_hour:\n",
      "[11.137546468401487, '02']\n",
      "[7.407801418439717, '01']\n",
      "[8.804177545691905, '22']\n",
      "[8.687258687258687, '21']\n",
      "[7.163043478260869, '19']\n",
      "[9.449744463373083, '17']\n",
      "[28.676470588235293, '15']\n",
      "[9.692007797270955, '14']\n",
      "[16.31756756756757, '13']\n",
      "[8.96474358974359, '11']\n",
      "[10.684397163120567, '10']\n",
      "[6.653153153153153, '09']\n",
      "[7.013274336283186, '07']\n",
      "[7.948339483394834, '03']\n",
      "[6.696793002915452, '23']\n",
      "[8.749019607843136, '20']\n",
      "[7.713298791018998, '16']\n",
      "[9.190661478599221, '08']\n",
      "[7.5647840531561465, '00']\n",
      "[7.94299674267101, '18']\n",
      "[12.380116959064328, '12']\n",
      "[9.7119341563786, '04']\n",
      "[6.782051282051282, '06']\n",
      "[8.794258373205741, '05']\n",
      "Top 5 Hours for Ask Posts Comments:\n",
      "15:00: 28.68 average comments per post\n",
      "13:00: 16.32 average comments per post\n",
      "12:00: 12.38 average comments per post\n",
      "02:00: 11.14 average comments per post\n",
      "10:00: 10.68 average comments per post\n"
     ]
    }
   ],
   "source": [
    "# Create a list with swapped columns from avg_by_hour\n",
    "swap_avg_by_hour = [[avg, hour] for hour, avg in avg_by_hour]\n",
    "\n",
    "# Print swap_avg_by_hour\n",
    "print(\"swap_avg_by_hour:\")\n",
    "for row in swap_avg_by_hour:\n",
    "    print(row)\n",
    "\n",
    "# Sort swap_avg_by_hour in descending order by average comments\n",
    "sorted_swap = sorted(swap_avg_by_hour, reverse=True)\n",
    "\n",
    "# Print the top 5 hours for average comments\n",
    "print(\"Top 5 Hours for Ask Posts Comments:\")\n",
    "for avg, hour in sorted_swap[:5]:\n",
    "    formatted_hour = dt.datetime.strptime(hour, \"%H\").strftime(\"%H:%M\")\n",
    "    print(f\"{formatted_hour}: {avg:.2f} average comments per post\")\n"
   ]
  },
  {
   "cell_type": "code",
   "execution_count": null,
   "id": "c976137f",
   "metadata": {},
   "outputs": [],
   "source": []
  }
 ],
 "metadata": {
  "kernelspec": {
   "display_name": "Python 3 (ipykernel)",
   "language": "python",
   "name": "python3"
  },
  "language_info": {
   "codemirror_mode": {
    "name": "ipython",
    "version": 3
   },
   "file_extension": ".py",
   "mimetype": "text/x-python",
   "name": "python",
   "nbconvert_exporter": "python",
   "pygments_lexer": "ipython3",
   "version": "3.11.4"
  }
 },
 "nbformat": 4,
 "nbformat_minor": 5
}
